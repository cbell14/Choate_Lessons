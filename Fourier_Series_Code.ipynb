{
 "cells": [
  {
   "cell_type": "markdown",
   "metadata": {},
   "source": [
    "# Choate Seminar Example Code"
   ]
  },
  {
   "cell_type": "code",
   "execution_count": null,
   "metadata": {
    "collapsed": true
   },
   "outputs": [],
   "source": [
    "import numpy as np\n",
    "import math\n",
    "from matplotlib import pyplot as plt\n",
    "import scipy.signal\n",
    "import wave\n",
    "import wavio\n",
    "%matplotlib inline"
   ]
  },
  {
   "cell_type": "markdown",
   "metadata": {},
   "source": [
    "## Sine Wave Examples"
   ]
  },
  {
   "cell_type": "code",
   "execution_count": null,
   "metadata": {},
   "outputs": [],
   "source": [
    "x = np.linspace(-np.pi,np.pi,500)\n",
    "ex1 = np.sin(2*np.pi*x)\n",
    "ex2 = np.sin(2*2*np.pi*x)\n",
    "ex3 = 2 * np.sin(2*np.pi*x)\n",
    "\n",
    "plt.figure(num=None, figsize=(8, 6), dpi=80, facecolor='w', edgecolor='k')\n",
    "plt.plot(x/np.pi,ex1,'b-',x/np.pi,ex2,'r-')\n",
    "plt.ylabel('Amplitude')\n",
    "plt.xlabel('x')\n",
    "plt.title('Frequency Comparison')\n",
    "plt.show()\n",
    "\n",
    "plt.figure(num=None, figsize=(8, 6), dpi=80, facecolor='w', edgecolor='k')\n",
    "plt.plot(x/np.pi,ex1,'b-',x/np.pi,ex3,'r-')\n",
    "plt.ylabel('Amplitude')\n",
    "plt.xlabel('x')\n",
    "plt.title('Amplitude Comparison')\n",
    "plt.show()"
   ]
  },
  {
   "cell_type": "markdown",
   "metadata": {},
   "source": [
    "## Fourier Transform Example"
   ]
  },
  {
   "cell_type": "code",
   "execution_count": null,
   "metadata": {
    "collapsed": true
   },
   "outputs": [],
   "source": [
    "#FFT Example\n",
    "Fs = 1000;            # Sampling frequency, 1000 samples per second\n",
    "T = 1/Fs;             # Sampling period, length of time per sample\n",
    "L = 1500;             # Length of signal\n",
    "t = np.arange(0,L-1)*T;        # Time vector, make time steps at each frequency sampling time"
   ]
  },
  {
   "cell_type": "markdown",
   "metadata": {},
   "source": [
    "Create a generic signal that is the sum of 2 sine waves with frequencies of 50 and 120 Hz and 0.7 and 1 for amplitudes respectively"
   ]
  },
  {
   "cell_type": "code",
   "execution_count": null,
   "metadata": {},
   "outputs": [],
   "source": [
    "S = 0.7*np.sin(2*np.pi*50*t) + np.sin(2*np.pi*120*t); \n",
    "\n",
    "#Plot uncorrupted signal in the time domain\n",
    "plt.figure(num=None, figsize=(8, 6), dpi=80, facecolor='w', edgecolor='k')\n",
    "plt.plot(1000*t[1:50],S[1:50],'b-')\n",
    "plt.ylabel('X(t)')\n",
    "plt.xlabel('t (milliseconds)')\n",
    "plt.title('Original Time Domain Signal')\n",
    "plt.show()"
   ]
  },
  {
   "cell_type": "markdown",
   "metadata": {},
   "source": [
    "Take FFT of original signal\n",
    "Compute the two-sided spectrum P2."
   ]
  },
  {
   "cell_type": "code",
   "execution_count": null,
   "metadata": {},
   "outputs": [],
   "source": [
    "Y = scipy.fft(S)\n",
    "P2 = abs(Y/L); #normalize by length of signal\n",
    "P1 = P2[1:int(L/2+1)]; #convert to a single sided spectrum\n",
    "# When converting to a single sided spectrum from a double sided spectrum we \n",
    "# must multiple by 2. \n",
    "#The easiest way to visualize this is to use the area under the curve.\n",
    "# A two sided spectrum is symmetric about the y axis and the area under the\n",
    "# curve is the power of the signal. To keep the same amount of power in a\n",
    "# single sided spectrum as the double sided spectrum we must multiply it by\n",
    "# 2.\n",
    "P1[2:-2] = 2*P1[2:-2]; \n",
    "\n",
    "#Calculate frequency vector\n",
    "# f * (fs/N)\n",
    "f = np.fft.fftfreq(np.size(Y), 1/Fs)\n",
    "\n",
    "#Plot FFT of original signal\n",
    "plt.figure(num=None, figsize=(8, 6), dpi=80, facecolor='w', edgecolor='k')\n",
    "plt.plot(f[0:int(np.size(f)/2)+1],P1,'b-')\n",
    "plt.ylabel('|P1(f)|')\n",
    "plt.xlabel('f (Hz)')\n",
    "plt.title('Single-Sided Spectrum of Original Signal')\n",
    "plt.show()"
   ]
  },
  {
   "cell_type": "markdown",
   "metadata": {},
   "source": [
    "Corrupt the signal with generic white noise"
   ]
  },
  {
   "cell_type": "code",
   "execution_count": null,
   "metadata": {},
   "outputs": [],
   "source": [
    "X = S + 2*np.random.rand(np.size(t));\n",
    "\n",
    "#Plot the corrupted signal, we can't see the underlying frequencies anymore\n",
    "plt.figure(num=None, figsize=(8, 6), dpi=80, facecolor='w', edgecolor='k')\n",
    "plt.plot(1000*t[1:50],X[1:50],'b-')\n",
    "plt.ylabel('X(t)')\n",
    "plt.xlabel('t (milliseconds)')\n",
    "plt.title('Signal Corrupted with Zero-Mean Random Noise')\n",
    "plt.show()"
   ]
  },
  {
   "cell_type": "code",
   "execution_count": null,
   "metadata": {},
   "outputs": [],
   "source": [
    "#Take FFT of corrupted signal\n",
    "Y = scipy.fft(X);\n",
    "P2 = abs(Y/L);\n",
    "P1 = P2[1:int(L/2+1)];\n",
    "P1[2:-2] = 2*P1[2:-2];\n",
    "\n",
    "#Plot FFT of original signal\n",
    "plt.figure(num=None, figsize=(8, 6), dpi=80, facecolor='w', edgecolor='k')\n",
    "plt.plot(f[0:int(np.size(f)/2+1)],P1,'b-')\n",
    "plt.ylabel('|P1(f)|')\n",
    "plt.xlabel('f (Hz)')\n",
    "plt.title('Single-Sided Spectrum of Corrupted Signal')\n",
    "plt.show()"
   ]
  },
  {
   "cell_type": "markdown",
   "metadata": {},
   "source": [
    "## Discrete Fourier Transform"
   ]
  },
  {
   "cell_type": "markdown",
   "metadata": {},
   "source": [
    "The example I just showed above, actually doesn't use the math I showed you earlier. The math I showed you was for a continous Fourier Transform. In reality, we calculate Discrete Fourier Transforms (DFTs). The main differences is a summation from n=0 to N-1 instead of an integral from -$\\infty$ to $\\infty$."
   ]
  },
  {
   "cell_type": "markdown",
   "metadata": {},
   "source": [
    "$$ x_k = \\sum_{n=0}^{N-1} x_n e^{\\frac{-i 2\\pi k n}{N}}$$\n",
    "\n",
    "Where,\n",
    "\n",
    "1) $k$ is a frequency bin\n",
    "\n",
    "2) $n$ is the sample you are looking at\n",
    "\n",
    "3) $N$ is the total number of samples"
   ]
  },
  {
   "cell_type": "markdown",
   "metadata": {},
   "source": [
    "## Filter Example"
   ]
  },
  {
   "cell_type": "code",
   "execution_count": null,
   "metadata": {},
   "outputs": [],
   "source": [
    "nyq = 0.5 * Fs\n",
    "cutoff = 150\n",
    "normal_cutoff = cutoff / nyq\n",
    "b, a = scipy.signal.butter(6, normal_cutoff, btype='low', analog=False)\n",
    "w, h = scipy.signal.freqz(b, a, worN=8000)\n",
    "\n",
    "signal_filtered = scipy.signal.filtfilt(b,a,X)\n",
    "\n",
    "plt.figure(num=None, figsize=(8, 6), dpi=80, facecolor='w', edgecolor='k')\n",
    "plt.plot(1000*t[0:50], X[0:50], 'b-', label='data')\n",
    "plt.plot(1000*t[0:50], signal_filtered[0:50], 'g-', linewidth=2, label='filtered data')\n",
    "plt.xlabel('Time [sec]')\n",
    "plt.grid()\n",
    "plt.legend()\n",
    "plt.show()\n",
    "    \n",
    "fft_filtered = np.fft.fft(signal_filtered)\n",
    "P2_filtered = abs(fft_filtered/int(fft_filtered.size))\n",
    "P1_filtered = P2_filtered[1:int(fft_filtered.size/2+1)]\n",
    "P1_filtered[2:-2] = 2*P1_filtered[2:-2];\n",
    "    \n",
    "f_full_filtered = np.fft.fftfreq(int(fft_filtered.size), 1/Fs)\n",
    "f_filtered = f_full_filtered[0:int(f_full_filtered.size/2)]\n",
    "\n",
    "#Plot FFT of original signal\n",
    "plt.figure(num=None, figsize=(8, 6), dpi=80, facecolor='w', edgecolor='k')\n",
    "plt.plot(2*f_filtered[0:200000],P1_filtered[0:200000],'b-')\n",
    "plt.ylabel('|P1(f)|')\n",
    "plt.xlabel('f (Hz)')\n",
    "plt.title('Single-Sided Spectrum of Low Pass Filtered Corrupted Signal')\n",
    "plt.show()"
   ]
  },
  {
   "cell_type": "markdown",
   "metadata": {},
   "source": [
    "# Fun with Wave Files"
   ]
  },
  {
   "cell_type": "code",
   "execution_count": null,
   "metadata": {
    "collapsed": true
   },
   "outputs": [],
   "source": [
    "def butter_lowpass(cutoff, fs, signal, order=6):\n",
    "    nyq = 0.5 * fs\n",
    "    normal_cutoff = cutoff / nyq\n",
    "    b, a = scipy.signal.butter(order, normal_cutoff, btype='low', analog=False)\n",
    "    w, h = scipy.signal.freqz(b, a, worN=8000)\n",
    "    Time=np.linspace(0, signal.size, signal.size) * (1/(2*fs))\n",
    "    window = np.hanning(signal.size)\n",
    "    \n",
    "    plt.figure(num=None, figsize=(8, 6), dpi=80, facecolor='w', edgecolor='k')\n",
    "    plt.title('Signal Wave...')\n",
    "    plt.plot(Time,signal)\n",
    "    plt.xlabel('Seconds');\n",
    "    plt.ylabel('Amplitude');\n",
    "    plt.show()\n",
    "    \n",
    "    plt.figure(num=None, figsize=(8, 6), dpi=80, facecolor='w', edgecolor='k')\n",
    "    plt.plot(0.5*fs*w/np.pi, np.abs(h), 'b')\n",
    "    plt.plot(cutoff, 0.5*np.sqrt(2), 'ko')\n",
    "    plt.axvline(cutoff, color='k')\n",
    "    plt.xlim(0,500)\n",
    "    plt.title(\"Lowpass Filter Frequency Response\")\n",
    "    plt.xlabel('Frequency [Hz]')\n",
    "    plt.grid()\n",
    "    plt.show()\n",
    "\n",
    "    signal_filtered = scipy.signal.filtfilt(b,a,signal)\n",
    "\n",
    "    plt.figure(num=None, figsize=(8, 6), dpi=80, facecolor='w', edgecolor='k')\n",
    "    plt.plot(Time, signal, 'b-', label='Raw Data')\n",
    "    plt.plot(Time, signal_filtered, 'g-', linewidth=2, label='Filtered Data')\n",
    "    plt.xlabel('Time [sec]')\n",
    "    plt.grid()\n",
    "    plt.legend()\n",
    "    plt.show()\n",
    "    \n",
    "    fft_orig = scipy.fft(signal*window)\n",
    "    P2_orig = abs(fft_orig/int(fft_orig.size))\n",
    "    P1_orig = P2_orig[1:int(fft_orig.size/2+1)]\n",
    "    P1_orig[2:-2] = 2*P1_orig[2:-2];\n",
    "    \n",
    "    fft_filtered = scipy.fft(signal_filtered*window)\n",
    "    P2_filtered = abs(fft_filtered/int(fft_filtered.size))\n",
    "    P1_filtered = P2_filtered[1:int(fft_filtered.size/2+1)]\n",
    "    P1_filtered[2:-2] = 2*P1_filtered[2:-2];\n",
    "    \n",
    "    f_full = np.fft.fftfreq(int(fft_filtered.size), 1/fs)\n",
    "    f = f_full[0:int(f_full.size/2)]\n",
    "\n",
    "    #Plot FFT of original signal\n",
    "    plt.figure(num=None, figsize=(8, 6), dpi=80, facecolor='w', edgecolor='k')\n",
    "    plt.plot(2*f[0:200000],P1_orig[0:200000],'b-', label='Raw Data')\n",
    "    plt.plot(2*f[0:200000],P1_filtered[0:200000],'g-', label='Filtered Data')\n",
    "    plt.ylabel('|P1(f)|')\n",
    "    plt.xlabel('f (Hz)')\n",
    "    plt.title('Single-Sided Spectrum of Low Pass Filtered Wave File')\n",
    "    plt.show()\n",
    "\n",
    "    return signal_filtered, f_full\n",
    "\n",
    "def butter_highpass(cutoff, fs, signal, order=6):\n",
    "    nyq = 0.5 * fs\n",
    "    normal_cutoff = cutoff / nyq\n",
    "    b, a = scipy.signal.butter(order, normal_cutoff, btype='high', analog=False)\n",
    "    w, h = scipy.signal.freqz(b, a, worN=8000)\n",
    "    Time=np.linspace(0, signal.size, signal.size) * (1/(2*fs))\n",
    "    \n",
    "    plt.figure(num=None, figsize=(8, 6), dpi=80, facecolor='w', edgecolor='k')\n",
    "    plt.title('Signal Wave...')\n",
    "    plt.plot(Time,signal)\n",
    "    plt.xlabel('Seconds');\n",
    "    plt.ylabel('Amplitude');\n",
    "    plt.show()\n",
    "    \n",
    "    plt.figure(num=None, figsize=(8, 6), dpi=80, facecolor='w', edgecolor='k')\n",
    "    plt.plot(0.5*fs*w/np.pi, np.abs(h), 'b')\n",
    "    plt.plot(cutoff, 0.5*np.sqrt(2), 'ko')\n",
    "    plt.axvline(cutoff, color='k')\n",
    "    plt.xlim(0,500)\n",
    "    plt.title(\"Highpass Filter Frequency Response\")\n",
    "    plt.xlabel('Frequency [Hz]')\n",
    "    plt.grid()\n",
    "    plt.show()\n",
    "\n",
    "    signal_filtered = scipy.signal.filtfilt(b,a,signal)\n",
    "\n",
    "    plt.figure(num=None, figsize=(8, 6), dpi=80, facecolor='w', edgecolor='k')\n",
    "    plt.plot(Time, signal, 'b-', label='data')\n",
    "    plt.plot(Time, signal_filtered, 'g-', linewidth=2, label='filtered data')\n",
    "    plt.xlabel('Time [sec]')\n",
    "    plt.grid()\n",
    "    plt.legend()\n",
    "    plt.show()\n",
    "    \n",
    "    fft_orig = scipy.fft(signal)\n",
    "    P2_orig = abs(fft_orig/int(fft_orig.size))\n",
    "    P1_orig = P2_orig[1:int(fft_orig.size/2+1)]\n",
    "    P1_orig[2:-2] = 2*P1_orig[2:-2];\n",
    "    \n",
    "    fft_filtered = np.fft.fft(signal_filtered)\n",
    "    P2_filtered = abs(fft_filtered/int(fft_filtered.size))\n",
    "    P1_filtered = P2_filtered[1:int(fft_filtered.size/2+1)]\n",
    "    P1_filtered[2:-2] = 2*P1_filtered[2:-2];\n",
    "    \n",
    "    f_full = np.fft.fftfreq(int(fft_filtered.size), 1/fs)\n",
    "    f = f_full[0:int(f_full.size/2)]\n",
    "\n",
    "    #Plot FFT of original signal\n",
    "    plt.figure(num=None, figsize=(8, 6), dpi=80, facecolor='w', edgecolor='k')\n",
    "    plt.plot(2*f[0:200000],P1_orig[0:200000],'b-', label='Raw Data')\n",
    "    plt.plot(2*f[0:200000],P1_filtered[0:200000],'g-', label='Filtered Data')\n",
    "    plt.ylabel('|P1(f)|')\n",
    "    plt.xlabel('f (Hz)')\n",
    "    plt.title('Single-Sided Spectrum of High Pass Filtered Wave File')\n",
    "    plt.show()\n",
    "    return signal_filtered, f_full"
   ]
  },
  {
   "cell_type": "code",
   "execution_count": null,
   "metadata": {},
   "outputs": [],
   "source": [
    "#import our wave file\n",
    "wave_file = wave.open('/home/cj/Downloads/440.wav','r')\n",
    "\n",
    "#Extract Raw Audio from Wav File\n",
    "temp = wave_file.readframes(-1)\n",
    "\n",
    "#Convert raw audio to an array we can plot using numpy and trim it to a managable size\n",
    "temp = np.fromstring(temp, 'Int16')\n",
    "signal = temp[0:int(temp.size)]\n",
    "\n",
    "#Get frame rate to plot against time\n",
    "fs = wave_file.getframerate()\n",
    "\n",
    "#Low Pass Filter\n",
    "cutoff_LP = 440\n",
    "signal_LP, f_full_LP, = butter_lowpass(cutoff_LP, fs, signal)\n",
    "\n",
    "#High Pass Filter\n",
    "cutoff_HP = 400\n",
    "signal_HP, f_full_HP, = butter_highpass(cutoff_HP, fs, signal)"
   ]
  },
  {
   "cell_type": "code",
   "execution_count": null,
   "metadata": {},
   "outputs": [],
   "source": [
    "#import our wave file\n",
    "wave_file = wave.open('/home/cj/Downloads/The-Killers-Show-You-How.wav','r')\n",
    "#wave_file = wave.open('/home/cj/Downloads/black-crowes-she-talks-to-angels.wav','r')\n",
    "#wave_file = wave.open('/home/cj/Downloads/The Killers - Somebody Told Me.wav','r')\n",
    "#wave_file = wave.open('/home/cj/Downloads/Luis Fonsi - Despacito ft. Daddy Yankee.wav','r')\n",
    "#wave_file = wave.open('/home/cj/Downloads/ACDC - You Shook Me All Night Long (Official Video).wav','r') #too long\n",
    "\n",
    "#Extract Raw Audio from Wav File\n",
    "temp = wave_file.readframes(-1)\n",
    "\n",
    "#Convert raw audio to an array we can plot using numpy and trim it to a managable size\n",
    "temp = np.fromstring(temp, 'Int16')\n",
    "#signal = temp[0:int(temp.size/100)]\n",
    "signal = temp[0:int(temp.size)]\n",
    "\n",
    "#Get frame rate to plot against time\n",
    "fs = wave_file.getframerate()\n",
    "\n",
    "#Low Pass Filter\n",
    "#cutoff_LP = 440\n",
    "#signal_LP, f_full_LP, = butter_lowpass(cutoff_LP, fs, signal)\n",
    "#signal_LP2 = np.asarray(signal_LP, dtype=np.int16)\n",
    "#import scipy.io.wavfile\n",
    "#scipy.io.wavfile.write('/home/cj/Desktop/LowPass.wav', 2*fs, signal_LP2)\n",
    "\n",
    "#High Pass Filter\n",
    "cutoff_HP = 400\n",
    "signal_HP, f_full_HP, = butter_highpass(cutoff_HP, fs, signal)\n",
    "signal_HP2 = np.asarray(signal_HP, dtype=np.int16)\n",
    "import scipy.io.wavfile\n",
    "scipy.io.wavfile.write('/home/cj/Desktop/HighPass.wav', 2*fs, signal_HP2)"
   ]
  },
  {
   "cell_type": "markdown",
   "metadata": {},
   "source": [
    "# Working"
   ]
  },
  {
   "cell_type": "raw",
   "metadata": {
    "collapsed": true
   },
   "source": [
    "#If Stereo\n",
    "#if wave_file.getnchannels() == 2:\n",
    "#    print('Just mono files')\n",
    "\n",
    "#Calculate time vector\n",
    "#divided by 2 because we only have valid data for half the sample nyquist\n",
    "#Time=np.linspace(0, signal.size, signal.size) * (1/(2*fs))\n",
    "\n",
    "#plt.figure(num=None, figsize=(8, 6), dpi=80, facecolor='w', edgecolor='k')\n",
    "#plt.title('Signal Wave...')\n",
    "#plt.plot(Time,signal)\n",
    "#plt.xlabel('Seconds');\n",
    "#plt.ylabel('Amplitude');\n",
    "#plt.show()\n",
    "\n",
    "#now lets FFT our original signal\n",
    "orig_fft = scipy.fft(signal)\n",
    "P2_orig = abs(orig_fft/int(orig_fft.size))\n",
    "P1_orig = P2_orig[1:int(orig_fft.size/2+1)]\n",
    "P1_orig[2:-2] = 2*P1_orig[2:-2];"
   ]
  },
  {
   "cell_type": "raw",
   "metadata": {
    "scrolled": false
   },
   "source": [
    "#Calculate full frequency vector and then trim it to single sided spectrum\n",
    "f_full_orig = np.fft.fftfreq(int(orig_fft.size), 1/fs)\n",
    "f_orig = f_full_orig[0:int(f_full_orig.size/2)]\n",
    "\n",
    "#Plot FFT of original signal\n",
    "plt.figure(num=None, figsize=(8, 6), dpi=80, facecolor='w', edgecolor='k')\n",
    "plt.plot(2*f_orig[0:200000],P1_orig[0:200000],'b-')\n",
    "plt.ylabel('|P1(f)|')\n",
    "plt.xlabel('f (Hz)')\n",
    "plt.title('Single-Sided Spectrum of Wave File')\n",
    "plt.show()"
   ]
  },
  {
   "cell_type": "raw",
   "metadata": {},
   "source": [
    "def butter_bandpass(lowcut, highcut, fs, order=6):\n",
    "    nyq = 0.5 * fs\n",
    "    low = lowcut / nyq\n",
    "    high = highcut / nyq\n",
    "    b, a = scipy.signal.butter(order, [low, high], btype='band', analog=False)\n",
    "    w, h = scipy.signal.freqz(b, a, worN=8000)\n",
    "    \n",
    "    plt.figure(num=None, figsize=(8, 6), dpi=80, facecolor='w', edgecolor='k')\n",
    "    plt.plot(0.5*fs*w/np.pi, np.abs(h), 'b')\n",
    "    plt.plot(lowcut, 0.5*np.sqrt(2), 'ko')\n",
    "    plt.plot(highcut, 0.5*np.sqrt(2), 'ko')\n",
    "    plt.axvline(lowcut, color='k')\n",
    "    plt.axvline(highcut, color='k')\n",
    "    plt.xlim(0,500)\n",
    "    plt.title(\"Bandpass Filter Frequency Response\")\n",
    "    plt.xlabel('Frequency [Hz]')\n",
    "    plt.grid()\n",
    "    plt.show()\n",
    "    \n",
    "    signal_filtered = scipy.signal.filtfilt(b,a,signal)\n",
    "\n",
    "    plt.figure(num=None, figsize=(8, 6), dpi=80, facecolor='w', edgecolor='k')\n",
    "    plt.plot(Time, signal, 'b-', label='data')\n",
    "    plt.plot(Time, signal_filtered, 'g-', linewidth=2, label='filtered data')\n",
    "    plt.xlabel('Time [sec]')\n",
    "    plt.grid()\n",
    "    plt.legend()\n",
    "    plt.show()\n",
    "    \n",
    "    fft_filtered = np.fft.fft(signal_filtered)\n",
    "    P2_filtered = abs(fft_filtered/int(fft_filtered.size))\n",
    "    P1_filtered = P2_filtered[1:int(fft_filtered.size/2+1)]\n",
    "    P1_filtered[2:-2] = 2*P1_filtered[2:-2];\n",
    "    \n",
    "    f_full_filtered = np.fft.fftfreq(int(fft_filtered.size), 1/fs)\n",
    "    f_filtered = f_full_filtered[0:int(f_full_filtered.size/2)]\n",
    "\n",
    "    #Plot FFT of original signal\n",
    "    plt.figure(num=None, figsize=(8, 6), dpi=80, facecolor='w', edgecolor='k')\n",
    "    plt.plot(2*f_filtered[0:20000],P1_filtered[0:20000],'b-')\n",
    "    plt.ylabel('|P1(f)|')\n",
    "    plt.xlabel('f (Hz)')\n",
    "    plt.title('Single-Sided Spectrum of Band Pass Filtered Wave File')\n",
    "    plt.show()\n",
    "    return b, a, w, h\n",
    "\n",
    "\n",
    "#def butter_bandstop(cutoff, fs, order=6):\n",
    "#    nyq = 0.5 * fs\n",
    "#    normal_cutoff = cutoff / nyq\n",
    "#    b, a = scipy.signal.butter(order, normal_cutoff, btype='low', analog=False)\n",
    "#    return b, a\n",
    "\n",
    "\n",
    "#def butter_lowpass_filter(data, cutoff, fs, order=6):\n",
    "#    b, a = butter_lowpass(cutoff, fs, order=order)\n",
    "#    y = scipy.signal.lfilter(b, a, data)\n",
    "#    return y"
   ]
  },
  {
   "cell_type": "markdown",
   "metadata": {},
   "source": [
    "### Bandpass Filter"
   ]
  },
  {
   "cell_type": "raw",
   "metadata": {},
   "source": [
    "cutoff_BP1 = 100\n",
    "cutoff_BP2 = 200\n",
    "b_BP, a_BP, w_BP, h_BP = butter_bandpass(cutoff_BP1, cutoff_BP2, fs)"
   ]
  },
  {
   "cell_type": "raw",
   "metadata": {},
   "source": [
    "# Get the filter coefficients so we can check its frequency response.\n",
    "cutoff_BP1 = 100\n",
    "cutoff_BP2 = 200\n",
    "\n",
    "b_BP, a_BP = butter_bandpass(cutoff_BP1, cutoff_BP2, fs) #cutoff in Hz\n",
    "\n",
    "# Plot the frequency response.\n",
    "w_BP, h_BP = scipy.signal.freqz(b_BP, a_BP, worN=8000)\n",
    "\n",
    "plt.figure(num=None, figsize=(8, 6), dpi=80, facecolor='w', edgecolor='k')\n",
    "plt.plot(0.5*fs*w_BP/np.pi, np.abs(h_BP), 'b')\n",
    "plt.plot(cutoff_BP1, 0.5*np.sqrt(2), 'ko')\n",
    "plt.plot(cutoff_BP2, 0.5*np.sqrt(2), 'ko')\n",
    "plt.axvline(cutoff_BP1, color='k')\n",
    "plt.axvline(cutoff_BP2, color='k')\n",
    "plt.xlim(0,500)\n",
    "plt.title(\"BandPass Filter Frequency Response\")\n",
    "plt.xlabel('Frequency [Hz]')\n",
    "plt.grid()\n",
    "plt.show()\n",
    "\n",
    "# Filter the data, and plot both the original and filtered signals.\n",
    "signal_BP = scipy.signal.filtfilt(b_BP,a_BP,signal)\n",
    "\n",
    "plt.figure(num=None, figsize=(8, 6), dpi=80, facecolor='w', edgecolor='k')\n",
    "plt.plot(Time, signal, 'b-', label='data')\n",
    "plt.plot(Time, signal_LP, 'g-', linewidth=2, label='filtered data')\n",
    "plt.xlabel('Time [sec]')\n",
    "plt.grid()\n",
    "plt.legend()\n",
    "plt.show()"
   ]
  },
  {
   "cell_type": "raw",
   "metadata": {},
   "source": [
    "fft_BP = np.fft.fft(signal_BP)\n",
    "P2_BP = abs(BP_fft/int(BP_fft.size))\n",
    "P1_BP = P2_BP[1:int(BP_fft.size/2+1)]\n",
    "P1_BP[2:-2] = 2*P1_BP[2:-2];"
   ]
  },
  {
   "cell_type": "raw",
   "metadata": {},
   "source": [
    "f_full_BP = np.fft.fftfreq(int(fft_BP.size), 1/fs)\n",
    "f_BP = f_full_BP[0:int(f_full_BP.size/2)]\n",
    "\n",
    "#Plot FFT of original signal\n",
    "plt.figure(num=None, figsize=(8, 6), dpi=80, facecolor='w', edgecolor='k')\n",
    "plt.plot(2*f_BP[0:20000],P1_BP[0:20000],'b-')\n",
    "plt.ylabel('|P1(f)|')\n",
    "plt.xlabel('f (Hz)')\n",
    "plt.title('Single-Sided Spectrum of Band Pass Filtered Wave File')\n",
    "plt.show()"
   ]
  },
  {
   "cell_type": "markdown",
   "metadata": {},
   "source": [
    "### Bandstop Filter"
   ]
  },
  {
   "cell_type": "code",
   "execution_count": null,
   "metadata": {
    "collapsed": true
   },
   "outputs": [],
   "source": [
    "signal_HP2 = np.asarray(signal_HP, dtype=np.int16)\n",
    "import scipy.io.wavfile\n",
    "scipy.io.wavfile.write('/home/cj/Desktop/HighPass.wav', 2*fs, signal_HP2)"
   ]
  },
  {
   "cell_type": "code",
   "execution_count": null,
   "metadata": {
    "collapsed": true
   },
   "outputs": [],
   "source": []
  },
  {
   "cell_type": "code",
   "execution_count": null,
   "metadata": {
    "collapsed": true
   },
   "outputs": [],
   "source": []
  }
 ],
 "metadata": {
  "kernelspec": {
   "display_name": "Python 3",
   "language": "python",
   "name": "python3"
  },
  "language_info": {
   "codemirror_mode": {
    "name": "ipython",
    "version": 3
   },
   "file_extension": ".py",
   "mimetype": "text/x-python",
   "name": "python",
   "nbconvert_exporter": "python",
   "pygments_lexer": "ipython3",
   "version": "3.6.2"
  }
 },
 "nbformat": 4,
 "nbformat_minor": 2
}
